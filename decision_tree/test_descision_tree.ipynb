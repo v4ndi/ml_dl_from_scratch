{
 "cells": [
  {
   "cell_type": "code",
   "execution_count": 1,
   "metadata": {},
   "outputs": [],
   "source": [
    "import numpy as np\n",
    "import pandas as pd\n",
    "from sklearn.model_selection import train_test_split\n",
    "from sklearn.datasets import load_breast_cancer,make_regression\n",
    "from sklearn.metrics import accuracy_score, f1_score, mean_squared_error,mean_absolute_error,r2_score\n",
    "from sklearn.datasets import make_classification"
   ]
  },
  {
   "cell_type": "code",
   "execution_count": 2,
   "metadata": {},
   "outputs": [
    {
     "name": "stdout",
     "output_type": "stream",
     "text": [
      "accuracy:  0.65\n",
      "F1 macro:  0.6654761904761904\n"
     ]
    }
   ],
   "source": [
    "from DecisionTree import DecisionTreeClassifier\n",
    "\n",
    "X, y = make_classification(random_state=42, n_classes=3, n_informative=5)\n",
    "X_train, X_test, y_train, y_test = train_test_split(X, y, test_size=0.2, shuffle=True)\n",
    "\n",
    "custom_DTC = DecisionTreeClassifier(max_depth=10, min_samples_node=2, impurity='gini')\n",
    "custom_DTC.fit(X_train, y_train)\n",
    "y_pred = custom_DTC.predict(X_test)\n",
    "\n",
    "print(\"accuracy: \", accuracy_score(y_test, y_pred))\n",
    "print(\"F1 macro: \", f1_score(y_test, y_pred, average='macro'))"
   ]
  },
  {
   "cell_type": "code",
   "execution_count": 3,
   "metadata": {},
   "outputs": [
    {
     "name": "stdout",
     "output_type": "stream",
     "text": [
      "accuracy:  0.65\n",
      "F1 macro:  0.6558857808857809\n"
     ]
    }
   ],
   "source": [
    "from sklearn.tree import DecisionTreeClassifier\n",
    "\n",
    "sk_tree = DecisionTreeClassifier(max_depth=5, min_samples_leaf=2)\n",
    "sk_tree.fit(X_train, y_train)\n",
    "y_pred = sk_tree.predict(X_test)\n",
    "print(\"accuracy: \", accuracy_score(y_test, y_pred))\n",
    "print(\"F1 macro: \", f1_score(y_test, y_pred, average='macro'))"
   ]
  },
  {
   "cell_type": "markdown",
   "metadata": {},
   "source": [
    "## Test regression model"
   ]
  },
  {
   "cell_type": "code",
   "execution_count": 4,
   "metadata": {},
   "outputs": [],
   "source": [
    "X,y = make_regression(n_samples=1000, n_features=8, n_informative=5, n_targets=1, noise=1, random_state=42)\n",
    "X_train, X_test, y_train, y_test = train_test_split(X, y, test_size=0.3, random_state=42)"
   ]
  },
  {
   "cell_type": "code",
   "execution_count": 5,
   "metadata": {},
   "outputs": [
    {
     "name": "stdout",
     "output_type": "stream",
     "text": [
      "rmse: 62.87\n",
      "mae: 48.86\n",
      "r2: 0.74\n"
     ]
    }
   ],
   "source": [
    "from DecisionTree import DecisionTreeRegressor\n",
    "\n",
    "rgr = DecisionTreeRegressor(max_depth=5, loss='mae', min_samples_node=2)\n",
    "rgr.fit(X_train,y_train)\n",
    "# make predictions\n",
    "yp = rgr.predict(X_test)\n",
    "# evaluate model performance\n",
    "print(\"rmse: %.2f\" % np.sqrt(mean_squared_error(y_test,yp)))\n",
    "print(\"mae: %.2f\" % mean_absolute_error(y_test,yp))\n",
    "print(\"r2: %.2f\" % r2_score(y_test,yp))\n"
   ]
  },
  {
   "cell_type": "code",
   "execution_count": 6,
   "metadata": {},
   "outputs": [
    {
     "name": "stdout",
     "output_type": "stream",
     "text": [
      "rmse:  63.68131341717364\n",
      "mae:  49.34753385230287\n",
      "r2: 0.7361350530070415\n"
     ]
    }
   ],
   "source": [
    "from sklearn.tree import DecisionTreeRegressor\n",
    "rgr = DecisionTreeRegressor(max_depth=5, criterion='absolute_error')\n",
    "rgr.fit(X_train,y_train)\n",
    "yp = rgr.predict(X_test)\n",
    "\n",
    "print(\"rmse: \", np.sqrt(mean_squared_error(y_test,yp)))\n",
    "print(\"mae: \", mean_absolute_error(y_test,yp))\n",
    "print(\"r2:\", r2_score(y_test,yp))\n"
   ]
  }
 ],
 "metadata": {
  "kernelspec": {
   "display_name": "Python 3.10.4 64-bit",
   "language": "python",
   "name": "python3"
  },
  "language_info": {
   "codemirror_mode": {
    "name": "ipython",
    "version": 3
   },
   "file_extension": ".py",
   "mimetype": "text/x-python",
   "name": "python",
   "nbconvert_exporter": "python",
   "pygments_lexer": "ipython3",
   "version": "3.11.3"
  },
  "orig_nbformat": 4,
  "vscode": {
   "interpreter": {
    "hash": "1c72fe1a59aade6d354c045d073c96bc7b4e06366c32218708d29061a896f6f6"
   }
  }
 },
 "nbformat": 4,
 "nbformat_minor": 2
}
