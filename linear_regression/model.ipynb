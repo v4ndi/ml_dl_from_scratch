{
 "cells": [
  {
   "cell_type": "code",
   "execution_count": 4,
   "id": "2a3b7c4e-5585-4f01-a69e-6278ac5fe4a4",
   "metadata": {},
   "outputs": [],
   "source": [
    "import numpy as np"
   ]
  },
  {
   "cell_type": "code",
   "execution_count": 45,
   "id": "6aad9fb5-d6fd-43f9-b75f-3d007cfa5f0c",
   "metadata": {},
   "outputs": [
    {
     "data": {
      "text/plain": [
       "\"\\nstudents = {'hours': [29, 9, 10, 38, 16, 26, 50, 10, 30, 33, 43, 2, 39, 15, 44, 29, 41, 15, 24, 50],\\n            'test_results': [65, 7, 8, 76, 23, 56, 100, 3, 74, 48, 73, 0, 62, 37, 74, 40, 90, 42, 58, 100]}\\nX = np.array(students['hours']).reshape(-1, 1)\\ny = np.array(students['test_results'])\\n\""
      ]
     },
     "execution_count": 45,
     "metadata": {},
     "output_type": "execute_result"
    }
   ],
   "source": [
    "'''\n",
    "students = {'hours': [29, 9, 10, 38, 16, 26, 50, 10, 30, 33, 43, 2, 39, 15, 44, 29, 41, 15, 24, 50],\n",
    "            'test_results': [65, 7, 8, 76, 23, 56, 100, 3, 74, 48, 73, 0, 62, 37, 74, 40, 90, 42, 58, 100]}\n",
    "X = np.array(students['hours']).reshape(-1, 1)\n",
    "y = np.array(students['test_results'])\n",
    "'''"
   ]
  },
  {
   "cell_type": "code",
   "execution_count": 51,
   "id": "9cf72f0e-790f-4ee0-ac62-293f1c2ec5e9",
   "metadata": {},
   "outputs": [],
   "source": [
    "np.random.seed(42)"
   ]
  },
  {
   "cell_type": "code",
   "execution_count": 100,
   "id": "c5f9b03a-114f-40c3-a83e-2cc97fe25975",
   "metadata": {},
   "outputs": [],
   "source": [
    "class LinearRegression():\n",
    "    def __init__(self):\n",
    "        self.w = None\n",
    "\n",
    "    def fit(self, X, y, lr=0.001, n_iterations=100, intercept=True):\n",
    "        '''\n",
    "        X.shape -> [n_samples, n_features]\n",
    "        y.shape -> [n_samples]\n",
    "        '''\n",
    "        \n",
    "        n_samples, n_features = X.shape\n",
    "        self.w = np.random.randn(n_features)\n",
    "\n",
    "        for i in range(n_iterations):\n",
    "            outputs = np.dot(X, self.w)\n",
    "            \n",
    "            loss = self.loss(y, outputs)\n",
    "            self.w -= lr * self.get_grad(X, y, outputs)\n",
    "\n",
    "            if i % 10 == 0:\n",
    "                print(loss)\n",
    "\n",
    "    def predict(X):\n",
    "        return np.dot(X, self.w)\n",
    "\n",
    "    def get_weights(self):\n",
    "        cp_w = np.copy(self.w)\n",
    "        return cp_w\n",
    "\n",
    "    def loss(self, y, y_pred):\n",
    "        # MSE\n",
    "        return np.mean((y_pred - y)**2)\n",
    "\n",
    "    def get_grad(self, X, y, y_pred):\n",
    "        N = X.shape[0]\n",
    "        dL_dw = 2/len(X) * np.dot(X.T, (y_pred - y)) \n",
    "\n",
    "        return dL_dw"
   ]
  },
  {
   "cell_type": "code",
   "execution_count": 92,
   "id": "24d589ff-96fb-46c4-9957-1de24c83f4c2",
   "metadata": {},
   "outputs": [],
   "source": [
    "X = np.random.uniform(low=1, high=20, size=(60, 2))\n",
    "y = 4.5 * X[:, 0] + 3 * X[:, 1]"
   ]
  },
  {
   "cell_type": "code",
   "execution_count": 93,
   "id": "219ee534-6ed2-412e-a534-a8686fc70a3b",
   "metadata": {},
   "outputs": [
    {
     "name": "stdout",
     "output_type": "stream",
     "text": [
      "9602.910287240607\n",
      "165.7464468751182\n",
      "42.59958964293017\n",
      "10.949181312801132\n",
      "2.814218926422064\n",
      "0.7233260587778101\n",
      "0.1859132501721326\n",
      "0.04778444820302511\n",
      "0.012281822236734548\n",
      "0.0031567416414197374\n"
     ]
    }
   ],
   "source": [
    "model = LinearRegression()\n",
    "model.fit(X, y)"
   ]
  },
  {
   "cell_type": "code",
   "execution_count": 98,
   "id": "2b8a8988-5700-4f33-870b-d1a59e631a72",
   "metadata": {},
   "outputs": [
    {
     "data": {
      "text/plain": [
       "array([4.49609777, 3.00307924])"
      ]
     },
     "execution_count": 98,
     "metadata": {},
     "output_type": "execute_result"
    }
   ],
   "source": [
    "model.get_weights()"
   ]
  }
 ],
 "metadata": {
  "kernelspec": {
   "display_name": "Python 3 (ipykernel)",
   "language": "python",
   "name": "python3"
  },
  "language_info": {
   "codemirror_mode": {
    "name": "ipython",
    "version": 3
   },
   "file_extension": ".py",
   "mimetype": "text/x-python",
   "name": "python",
   "nbconvert_exporter": "python",
   "pygments_lexer": "ipython3",
   "version": "3.10.4"
  }
 },
 "nbformat": 4,
 "nbformat_minor": 5
}
