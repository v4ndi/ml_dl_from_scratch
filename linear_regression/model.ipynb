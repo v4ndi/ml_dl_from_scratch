{
 "cells": [
  {
   "cell_type": "code",
   "execution_count": 1,
   "id": "2a3b7c4e-5585-4f01-a69e-6278ac5fe4a4",
   "metadata": {},
   "outputs": [],
   "source": [
    "import numpy as np"
   ]
  },
  {
   "cell_type": "code",
   "execution_count": 153,
   "id": "c5f9b03a-114f-40c3-a83e-2cc97fe25975",
   "metadata": {},
   "outputs": [],
   "source": [
    "class LinearRegression():\n",
    "    def __init__(self):\n",
    "        self.w = None\n",
    "\n",
    "    def fit(self, X, y, lr=0.001, n_iterations=1000, intercept=True, verbose=10):\n",
    "        '''\n",
    "        X.shape -> [n_samples, n_features]\n",
    "        y.shape -> [n_samples]\n",
    "        '''\n",
    "        self.n_samples, self.n_features = X.shape\n",
    "        self.X = X \n",
    "        self.y = y\n",
    "        self.intercept = intercept\n",
    "        \n",
    "        if self.intercept:\n",
    "            self.w = np.random.randn(self.n_features + 1)\n",
    "            self.X = np.concatenate((np.ones((X.shape[0], 1)), X), axis=1)\n",
    "        else:\n",
    "            self.w = np.random.randn(self.n_features)\n",
    "\n",
    "        for i in range(n_iterations):\n",
    "            outputs = np.dot(self.X, self.w)\n",
    "            \n",
    "            loss = self.loss(self.y, outputs)\n",
    "            self.w -= lr * self.get_grad(self.X, self.y, outputs)\n",
    "\n",
    "            if i % verbose == 0:\n",
    "                print(loss)\n",
    "\n",
    "    def predict(self, X):\n",
    "        n_samples, n_features = X.shape\n",
    "        assert self.n_features == n_features or self.n_samples == n_samples, 'Training data had another shape'\n",
    "        \n",
    "        if self.intercept:\n",
    "            X = np.concatenate((np.ones((X.shape[0], 1)), X), axis=1)\n",
    "        \n",
    "        return np.dot(X, self.w)\n",
    "\n",
    "    def get_weights(self):\n",
    "        cp_w = np.copy(self.w)\n",
    "        return cp_w\n",
    "\n",
    "    def loss(self, y, y_pred):\n",
    "        # MSE\n",
    "        return np.mean((y_pred - y)**2)\n",
    "\n",
    "    def get_grad(self, X, y, y_pred):\n",
    "        N = X.shape[0]\n",
    "        dL_dw = 2/len(X) * np.dot(X.T, (y_pred - y)) \n",
    "\n",
    "        return dL_dw"
   ]
  },
  {
   "cell_type": "code",
   "execution_count": 154,
   "id": "24d589ff-96fb-46c4-9957-1de24c83f4c2",
   "metadata": {},
   "outputs": [],
   "source": [
    "X = np.random.uniform(low=1, high=20, size=(60, 2))\n",
    "y = 4.5 * X[:, 0] + 3 * X[:, 1] + 2"
   ]
  },
  {
   "cell_type": "code",
   "execution_count": 155,
   "id": "219ee534-6ed2-412e-a534-a8686fc70a3b",
   "metadata": {},
   "outputs": [],
   "source": [
    "model = LinearRegression()"
   ]
  },
  {
   "cell_type": "code",
   "execution_count": 156,
   "id": "74c77ccb-f4f7-4977-806e-dbd40aeb9d26",
   "metadata": {},
   "outputs": [
    {
     "name": "stdout",
     "output_type": "stream",
     "text": [
      "7241.869540853422\n",
      "20.193627953903828\n",
      "5.2157680190068465\n",
      "1.6222991607723738\n",
      "0.7598439819320739\n",
      "0.5528493019398187\n",
      "0.5031692738104605\n",
      "0.4912457538676954\n",
      "0.48838403391344504\n",
      "0.4876972030836337\n",
      "0.4875323593545758\n",
      "0.4874927958203964\n",
      "0.4874833003227794\n",
      "0.48748102134348853\n",
      "0.4874804743740919\n",
      "0.4874803430979883\n",
      "0.48748031159089716\n",
      "0.48748030402899545\n",
      "0.4874803022140928\n",
      "0.48748030177850415\n",
      "0.4874803016739608\n",
      "0.4874803016488689\n",
      "0.4874803016428456\n",
      "0.4874803016414027\n",
      "0.48748030164105516\n",
      "0.487480301640972\n",
      "0.4874803016409521\n",
      "0.4874803016409476\n",
      "0.487480301640945\n",
      "0.4874803016409452\n",
      "0.48748030164094475\n",
      "0.48748030164094397\n",
      "0.48748030164094375\n",
      "0.4874803016409452\n",
      "0.4874803016409455\n",
      "0.4874803016409455\n",
      "0.48748030164094563\n",
      "0.4874803016409455\n",
      "0.4874803016409458\n",
      "0.4874803016409457\n",
      "0.48748030164094364\n",
      "0.48748030164094486\n",
      "0.48748030164094674\n",
      "0.4874803016409448\n",
      "0.4874803016409458\n",
      "0.48748030164094497\n",
      "0.487480301640944\n",
      "0.4874803016409441\n",
      "0.4874803016409441\n",
      "0.4874803016409441\n",
      "0.4874803016409441\n",
      "0.4874803016409441\n",
      "0.4874803016409441\n",
      "0.4874803016409441\n",
      "0.4874803016409441\n",
      "0.4874803016409441\n",
      "0.4874803016409441\n",
      "0.4874803016409441\n",
      "0.4874803016409441\n",
      "0.4874803016409441\n",
      "0.4874803016409441\n",
      "0.4874803016409441\n",
      "0.4874803016409441\n",
      "0.4874803016409441\n",
      "0.4874803016409441\n",
      "0.4874803016409441\n",
      "0.4874803016409441\n",
      "0.4874803016409441\n",
      "0.4874803016409441\n",
      "0.4874803016409441\n",
      "0.4874803016409441\n",
      "0.4874803016409441\n",
      "0.4874803016409441\n",
      "0.4874803016409441\n",
      "0.4874803016409441\n",
      "0.4874803016409441\n",
      "0.4874803016409441\n",
      "0.4874803016409441\n",
      "0.4874803016409441\n",
      "0.4874803016409441\n",
      "0.4874803016409441\n",
      "0.4874803016409441\n",
      "0.4874803016409441\n",
      "0.4874803016409441\n",
      "0.4874803016409441\n",
      "0.4874803016409441\n",
      "0.4874803016409441\n",
      "0.4874803016409441\n",
      "0.4874803016409441\n",
      "0.4874803016409441\n",
      "0.4874803016409441\n",
      "0.4874803016409441\n",
      "0.4874803016409441\n",
      "0.4874803016409441\n",
      "0.4874803016409441\n",
      "0.4874803016409441\n",
      "0.4874803016409441\n",
      "0.4874803016409441\n",
      "0.4874803016409441\n",
      "0.4874803016409441\n"
     ]
    }
   ],
   "source": [
    "model.fit(X, y, intercept=False)"
   ]
  },
  {
   "cell_type": "code",
   "execution_count": 157,
   "id": "2b8a8988-5700-4f33-870b-d1a59e631a72",
   "metadata": {},
   "outputs": [
    {
     "data": {
      "text/plain": [
       "array([4.59572329, 3.06963743])"
      ]
     },
     "execution_count": 157,
     "metadata": {},
     "output_type": "execute_result"
    }
   ],
   "source": [
    "model.get_weights()"
   ]
  }
 ],
 "metadata": {
  "kernelspec": {
   "display_name": "Python 3 (ipykernel)",
   "language": "python",
   "name": "python3"
  },
  "language_info": {
   "codemirror_mode": {
    "name": "ipython",
    "version": 3
   },
   "file_extension": ".py",
   "mimetype": "text/x-python",
   "name": "python",
   "nbconvert_exporter": "python",
   "pygments_lexer": "ipython3",
   "version": "3.10.4"
  }
 },
 "nbformat": 4,
 "nbformat_minor": 5
}
