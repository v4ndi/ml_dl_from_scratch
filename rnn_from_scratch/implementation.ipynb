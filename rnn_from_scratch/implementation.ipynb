{
 "cells": [
  {
   "cell_type": "code",
   "execution_count": 1,
   "id": "9f788d5e-fb20-4f1b-87d2-57721cc6d73c",
   "metadata": {},
   "outputs": [],
   "source": [
    "import torch\n",
    "import torch.nn as nn\n",
    "import numpy as np"
   ]
  },
  {
   "cell_type": "markdown",
   "id": "772df214-7eec-4ee1-ae16-985af31bcf37",
   "metadata": {},
   "source": [
    "![](materials/cell_rnn.png)\n",
    "## $h_t = tanh(W_{hh}\\times h_{t-1} + W_{hx}\\times x_t) $  \n",
    "## $y_t = softmax(W_{hy} \\times h_t)$"
   ]
  },
  {
   "cell_type": "code",
   "execution_count": 2,
   "id": "e2c02913-0151-4904-a568-dd9802da81ff",
   "metadata": {},
   "outputs": [],
   "source": [
    "def sigmoid(x):\n",
    "    return 1 / 1 + np.exp(-x)"
   ]
  },
  {
   "cell_type": "code",
   "execution_count": 10,
   "id": "43881fcf-4dea-4448-82fd-f5162c576bf7",
   "metadata": {},
   "outputs": [
    {
     "data": {
      "text/plain": [
       "array([[0.],\n",
       "       [0.],\n",
       "       [0.]])"
      ]
     },
     "execution_count": 10,
     "metadata": {},
     "output_type": "execute_result"
    }
   ],
   "source": [
    "def softmax(x):\n",
    "    exp = np.exp(sum(x))"
   ]
  },
  {
   "cell_type": "code",
   "execution_count": 6,
   "id": "e849993d-32b6-47b9-ac8d-5d45dafbb7ef",
   "metadata": {},
   "outputs": [
    {
     "data": {
      "text/plain": [
       "(3, 5, 10)"
      ]
     },
     "execution_count": 6,
     "metadata": {},
     "output_type": "execute_result"
    }
   ],
   "source": [
    "test = np.random.randn(3, 5, 10)\n",
    "test.shape"
   ]
  },
  {
   "cell_type": "code",
   "execution_count": 10,
   "id": "29b4be46-953d-45c2-b4b6-e225c8c99d7e",
   "metadata": {},
   "outputs": [
    {
     "ename": "SyntaxError",
     "evalue": "incomplete input (3828121748.py, line 37)",
     "output_type": "error",
     "traceback": [
      "\u001b[1;36m  Cell \u001b[1;32mIn[10], line 37\u001b[1;36m\u001b[0m\n\u001b[1;33m    \u001b[0m\n\u001b[1;37m    ^\u001b[0m\n\u001b[1;31mSyntaxError\u001b[0m\u001b[1;31m:\u001b[0m incomplete input\n"
     ]
    }
   ],
   "source": [
    "class RNN():\n",
    "    def __init__(self, x, y, hidden_size):\n",
    "        self.hidden_size = None\n",
    "        self.W_hh = np.random.randn(self.hidden_size, self.hidden_size)\n",
    "        self.W_hx = np.random.randn(self.hidden_size, x.shape[2])\n",
    "        self.W_hy = np.random.randn(y.shape[1], self.hidden_size)\n",
    "\n",
    "    def step(self, x_t, ht_1):\n",
    "        h_t = np.tanh(np.dot(self.Whh, ht_1) + np.dot(self.W_hx, x_t))\n",
    "        y_t = np.dot(W_hy, h_t)\n",
    "\n",
    "        return h_t, y_t\n",
    "\n",
    "    def forward(self, x, y, hidden_size):\n",
    "        '''\n",
    "        x.shape = [num_steps, num_features]\n",
    "        y.shape = [outputs]\n",
    "        '''\n",
    "        self.hidden_size = hidden_size\n",
    "        h_t = np.zeros((self.hidden_size, 1))\n",
    "        \n",
    "        self.inputs_history = []\n",
    "        self.ht_history = [h_t]\n",
    "\n",
    "        n_steps = x.shape[0]\n",
    "        for i in range(n_steps):\n",
    "            h_t, y_t = self.step(x[i], h_t)\n",
    "            self.inputs_history.append(x[i])\n",
    "            self.ht_history.append(h_t)\n",
    "            \n",
    "    def backward(self,):\n",
    "        \n",
    "\n",
    "        \n",
    "        \n",
    "        \n",
    "        "
   ]
  },
  {
   "cell_type": "markdown",
   "id": "3dbaea78-2b10-4ede-8244-f34fed482a34",
   "metadata": {},
   "source": [
    "Хотим иметь набор из n текстов по теме машинного обучения, разобьем текст на токены для дальнейшей генерации текстов основываясь на \n",
    "имеющихся токенах и модели RNN С добавлением двух спец символов <begin> <end> означающие о начале и конце предложения. \n",
    "Получим на вход n текстов, разбив на токены каждый текст, получим массив [num_texts, num_features]"
   ]
  },
  {
   "cell_type": "code",
   "execution_count": 25,
   "id": "a4648259-6cc2-47e6-ba07-94dd1af777d1",
   "metadata": {},
   "outputs": [],
   "source": [
    "import string\n",
    "\n",
    "punct = string.punctuation"
   ]
  },
  {
   "cell_type": "code",
   "execution_count": 29,
   "id": "f1f1fdd0-2b17-462b-9184-d2b4ed990291",
   "metadata": {},
   "outputs": [],
   "source": [
    "sample_text = \"Меня зовут Никита, я люблю играть в футбол, а чем ты увлекаешься?\""
   ]
  },
  {
   "cell_type": "code",
   "execution_count": null,
   "id": "a46fe968-12cb-4fbb-b39c-1295c039d9a5",
   "metadata": {},
   "outputs": [],
   "source": []
  },
  {
   "cell_type": "code",
   "execution_count": 31,
   "id": "f20949b4-12c4-4a59-b810-9c96c91cdf1c",
   "metadata": {},
   "outputs": [
    {
     "name": "stdout",
     "output_type": "stream",
     "text": [
      "['Меня', 'зовут', 'Никита', ',', 'я', 'люблю', 'играть', 'в', 'футбол', ',', 'а', 'чем', 'ты', 'увлекаешься', '?']\n"
     ]
    }
   ],
   "source": [
    "import re\n",
    "\n",
    "def tokenize_with_punct(text):\n",
    "    words = re.findall(r'\\b\\w+\\b|[{}]'.format(re.escape(string.punctuation)), text)\n",
    "\n",
    "    return words\n",
    "\n",
    "tokenized_words = tokenize_with_punct(sample_text)\n",
    "print(tokenized_words)"
   ]
  },
  {
   "cell_type": "code",
   "execution_count": 35,
   "id": "7b6b6239-5ec0-45e2-86d2-7c54910e2620",
   "metadata": {},
   "outputs": [
    {
     "name": "stdout",
     "output_type": "stream",
     "text": [
      "{'?': 0, 'играть': 1, 'увлекаешься': 2, 'Меня': 3, ',': 4, 'люблю': 5, 'ты': 6, 'я': 7, 'зовут': 8, 'а': 9, 'в': 10, 'футбол': 11, 'чем': 12, 'Никита': 13}\n",
      "{0: '?', 1: 'играть', 2: 'увлекаешься', 3: 'Меня', 4: ',', 5: 'люблю', 6: 'ты', 7: 'я', 8: 'зовут', 9: 'а', 10: 'в', 11: 'футбол', 12: 'чем', 13: 'Никита'}\n"
     ]
    }
   ],
   "source": [
    "id_to_word = {x: idx for idx, x in enumerate(set(tokenized_words))}\n",
    "word_to_id = {id: word for word, id in id_to_word.items()}\n",
    "print(id_to_word)\n",
    "print(word_to_id)"
   ]
  }
 ],
 "metadata": {
  "kernelspec": {
   "display_name": "Python 3 (ipykernel)",
   "language": "python",
   "name": "python3"
  },
  "language_info": {
   "codemirror_mode": {
    "name": "ipython",
    "version": 3
   },
   "file_extension": ".py",
   "mimetype": "text/x-python",
   "name": "python",
   "nbconvert_exporter": "python",
   "pygments_lexer": "ipython3",
   "version": "3.10.4"
  }
 },
 "nbformat": 4,
 "nbformat_minor": 5
}
